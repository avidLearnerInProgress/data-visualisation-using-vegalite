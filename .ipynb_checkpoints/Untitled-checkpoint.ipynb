{
 "cells": [
  {
   "cell_type": "code",
   "execution_count": 2,
   "metadata": {},
   "outputs": [],
   "source": [
    "import pandas as pd\n",
    "import numpy as np\n",
    "import matplotlib.pyplot as plt"
   ]
  },
  {
   "cell_type": "code",
   "execution_count": 2,
   "metadata": {
    "code_folding": [
     2
    ]
   },
   "outputs": [
    {
     "ename": "IndentationError",
     "evalue": "unexpected indent (<ipython-input-2-19b11a8cfc69>, line 4)",
     "output_type": "error",
     "traceback": [
      "\u001b[1;36m  File \u001b[1;32m\"<ipython-input-2-19b11a8cfc69>\"\u001b[1;36m, line \u001b[1;32m4\u001b[0m\n\u001b[1;33m    'VehicleMake' : \"VehicleMaker\",\u001b[0m\n\u001b[1;37m    ^\u001b[0m\n\u001b[1;31mIndentationError\u001b[0m\u001b[1;31m:\u001b[0m unexpected indent\n"
     ]
    }
   ],
   "source": [
    "df = pd.read_csv(\"make_model_data_16_cleaned.csv\")\n",
    "      \n",
    "#df = df.rename(columns = {\n",
    "    'VehicleMake' : \"VehicleMaker\",\n",
    "    'VehicleModel' : \"VehicleMakerModel\",\n",
    "    'YearOfBirth' : \"YearOfRelease\",\n",
    "    'Total' : 'TotalReleases',\n",
    "    'PASS' : 'Pass',\n",
    "    'PASS %' : 'PassPercent',\n",
    "    'FAIL' : 'Fail',\n",
    "    'FAIL %' : 'FailPercent',\n",
    "    'Vehicle and Safety Equipment' : 'VehicleAndSafetyEquipment',\n",
    "    'Vehicle and Safety Equipment %' : 'VehicleAndSafetyEquipmentPercent',\n",
    "    'Lighting and Electrical' : 'LightingAndElectrical',\n",
    "    'Lighting and Electrical %' : 'LightingAndElectricalPercent', \n",
    "    'Steering and Suspension' : 'SteeringAndSuspension',\n",
    "    'Steering and Suspension %' : 'SteeringAndSuspensionPercent', \n",
    "    'Braking Equipment' : 'BrakingEquipment', \n",
    "    'Braking Equipment %' : 'BrakingEquipmentPercent',\n",
    "    'Wheels and Tyres' : 'WheelsAndTyres', \n",
    "    'Wheels and Tyres %' : 'WheelsAndTyresPercent', \n",
    "    'Engine, Noise and Exhaust' : 'EngineNoiseAndExhaust',\n",
    "    'Engine, Noise and Exhaust %' : 'EngineNoiseAndExhaustPercent', \n",
    "    'Chassis and Body' : 'ChassisAndBody', \n",
    "    'Chassis and Body %' : 'ChassisAndBodyPercent',\n",
    "    'Side Slip Test' : 'SideSlipTest', \n",
    "    'Side Slip Test %' : 'SideSlipTestPercent', \n",
    "    'Suspension Test' : 'SuspensionTest',\n",
    "    'Suspension Test %' : 'SuspensionTestPercent',\n",
    "    'Light test' : 'LightTest',\n",
    "    'Light test %' : 'LightTestPercent',\n",
    "    'Brake Test' : 'BrakeTest',\n",
    "    'Brake Test %' : 'BrakeTest%',\n",
    "    'Emmissions' : 'Emissions',\n",
    "    'Emmissions %' : 'EmissionsPercent',\n",
    "    'OTHER' : 'Other',\n",
    "    'OTHER %' : 'OtherPercent',\n",
    "    'Incompletable' : 'IncompletablePercent'\n",
    "#})\n",
    "\n",
    "df['VehicleMakerPlusModel'] = df['VehicleMaker'].str  + ' - ' + df['VehicleMakerModel'].str\n",
    "\n",
    "#df.columns\n",
    "df.to_csv('make_model_data_16_cleaned_combined.csv', index = False)\n",
    "\n",
    "dff = pd.read_csv('make_model_data_16_cleaned_renamed.csv')\n",
    "dff.head()"
   ]
  },
  {
   "cell_type": "code",
   "execution_count": 33,
   "metadata": {},
   "outputs": [
    {
     "data": {
      "text/plain": [
       "TOYOTA              541\n",
       "BMW                 535\n",
       "VOLKSWAGEN          465\n",
       "MERCEDES BENZ       422\n",
       "NISSAN              404\n",
       "                   ... \n",
       "PANTHER               1\n",
       "LADA                  1\n",
       "MERCEDES/COMPASS      1\n",
       "IMPERIAL              1\n",
       "TALBOT                1\n",
       "Name: VehicleMaker, Length: 112, dtype: int64"
      ]
     },
     "metadata": {},
     "output_type": "display_data"
    },
    {
     "data": {
      "text/plain": [
       "OTHER                             1054\n",
       "ASTRA                               47\n",
       "CORSA                               47\n",
       "MINI                                43\n",
       "RANGE ROVER                         40\n",
       "                                  ... \n",
       "C180 KOMPRESSOR CLASSIC SE 4DR       1\n",
       "FUEGO                                1\n",
       "PALIO                                1\n",
       "ZAFIRA DESIGN 5DR                    1\n",
       "A4 1.9TDI 130BHP 5DR                 1\n",
       "Name: VehicleMakerModel, Length: 1156, dtype: int64"
      ]
     },
     "metadata": {},
     "output_type": "display_data"
    },
    {
     "data": {
      "text/plain": [
       "2008    475\n",
       "2005    465\n",
       "2004    453\n",
       "2006    446\n",
       "2007    415\n",
       "       ... \n",
       "1958      1\n",
       "1974      1\n",
       "1939      1\n",
       "1963      1\n",
       "1932      1\n",
       "Name: YearOfRelease, Length: 63, dtype: int64"
      ]
     },
     "metadata": {},
     "output_type": "display_data"
    },
    {
     "data": {
      "text/plain": [
       "1       1763\n",
       "2        779\n",
       "3        443\n",
       "4        288\n",
       "5        231\n",
       "        ... \n",
       "450        1\n",
       "2447       1\n",
       "386        1\n",
       "362        1\n",
       "2009       1\n",
       "Name: TotalReleases, Length: 981, dtype: int64"
      ]
     },
     "metadata": {},
     "output_type": "display_data"
    },
    {
     "data": {
      "text/plain": [
       "1       1513\n",
       "0       1416\n",
       "2        655\n",
       "3        364\n",
       "4        277\n",
       "        ... \n",
       "350        1\n",
       "354        1\n",
       "2411       1\n",
       "370        1\n",
       "2067       1\n",
       "Name: Pass, Length: 693, dtype: int64"
      ]
     },
     "metadata": {},
     "output_type": "display_data"
    },
    {
     "data": {
      "text/plain": [
       "0.0      1416\n",
       "100.0    1115\n",
       "50.0      554\n",
       "33.3      268\n",
       "66.7      208\n",
       "         ... \n",
       "91.2        1\n",
       "80.3        1\n",
       "74.4        1\n",
       "86.2        1\n",
       "12.1        1\n",
       "Name: PassPercent, Length: 751, dtype: int64"
      ]
     },
     "metadata": {},
     "output_type": "display_data"
    },
    {
     "data": {
      "text/plain": [
       "1       1598\n",
       "0       1115\n",
       "2        674\n",
       "3        402\n",
       "4        271\n",
       "        ... \n",
       "282        1\n",
       "294        1\n",
       "306        1\n",
       "310        1\n",
       "1341       1\n",
       "Name: Fail, Length: 728, dtype: int64"
      ]
     },
     "metadata": {},
     "output_type": "display_data"
    },
    {
     "data": {
      "text/plain": [
       "100.0    1416\n",
       "0.0      1115\n",
       "50.0      554\n",
       "66.7      268\n",
       "33.3      208\n",
       "         ... \n",
       "12.8        1\n",
       "25.4        1\n",
       "85.2        1\n",
       "8.8         1\n",
       "36.3        1\n",
       "Name: FailPercent, Length: 751, dtype: int64"
      ]
     },
     "metadata": {},
     "output_type": "display_data"
    },
    {
     "data": {
      "text/plain": [
       "0      3104\n",
       "1      1323\n",
       "2       611\n",
       "3       389\n",
       "4       260\n",
       "       ... \n",
       "923       1\n",
       "805       1\n",
       "777       1\n",
       "745       1\n",
       "813       1\n",
       "Name: VehicleAndSafetyEquipment, Length: 315, dtype: int64"
      ]
     },
     "metadata": {},
     "output_type": "display_data"
    },
    {
     "data": {
      "text/plain": [
       "0.0      3104\n",
       "100.0     331\n",
       "50.0      237\n",
       "33.3      201\n",
       "25.0      166\n",
       "         ... \n",
       "25.2        1\n",
       "30.9        1\n",
       "28.4        1\n",
       "31.7        1\n",
       "23.6        1\n",
       "Name: VehicleAndSafetyEquipmentPercent, Length: 340, dtype: int64"
      ]
     },
     "metadata": {},
     "output_type": "display_data"
    },
    {
     "data": {
      "text/plain": [
       "0       2752\n",
       "1       1314\n",
       "2        556\n",
       "3        385\n",
       "4        271\n",
       "        ... \n",
       "1661       1\n",
       "1693       1\n",
       "1749       1\n",
       "1845       1\n",
       "1241       1\n",
       "Name: LightingAndElectrical, Length: 446, dtype: int64"
      ]
     },
     "metadata": {},
     "output_type": "display_data"
    },
    {
     "data": {
      "text/plain": [
       "0.0      2752\n",
       "100.0     381\n",
       "50.0      312\n",
       "33.3      257\n",
       "25.0      207\n",
       "         ... \n",
       "36.3        1\n",
       "48.0        1\n",
       "38.6        1\n",
       "34.3        1\n",
       "41.4        1\n",
       "Name: LightingAndElectricalPercent, Length: 449, dtype: int64"
      ]
     },
     "metadata": {},
     "output_type": "display_data"
    },
    {
     "data": {
      "text/plain": [
       "0       3245\n",
       "1       1235\n",
       "2        522\n",
       "3        328\n",
       "4        244\n",
       "        ... \n",
       "953        1\n",
       "893        1\n",
       "805        1\n",
       "789        1\n",
       "1563       1\n",
       "Name: SteeringAndSuspension, Length: 400, dtype: int64"
      ]
     },
     "metadata": {},
     "output_type": "display_data"
    },
    {
     "data": {
      "text/plain": [
       "0.0      3245\n",
       "100.0     312\n",
       "50.0      264\n",
       "33.3      190\n",
       "25.0      184\n",
       "         ... \n",
       "41.8        1\n",
       "45.7        1\n",
       "48.8        1\n",
       "59.4        1\n",
       "46.4        1\n",
       "Name: SteeringAndSuspensionPercent, Length: 464, dtype: int64"
      ]
     },
     "metadata": {},
     "output_type": "display_data"
    },
    {
     "data": {
      "text/plain": [
       "0       4006\n",
       "1       1172\n",
       "2        477\n",
       "3        286\n",
       "4        224\n",
       "        ... \n",
       "1249       1\n",
       "809        1\n",
       "785        1\n",
       "761        1\n",
       "1289       1\n",
       "Name: BrakingEquipment, Length: 305, dtype: int64"
      ]
     },
     "metadata": {},
     "output_type": "display_data"
    },
    {
     "data": {
      "text/plain": [
       "0.0      4006\n",
       "100.0     201\n",
       "50.0      168\n",
       "33.3      132\n",
       "25.0      104\n",
       "         ... \n",
       "37.1        1\n",
       "20.1        1\n",
       "34.6        1\n",
       "25.7        1\n",
       "46.2        1\n",
       "Name: BrakingEquipmentPercent, Length: 350, dtype: int64"
      ]
     },
     "metadata": {},
     "output_type": "display_data"
    },
    {
     "data": {
      "text/plain": [
       "0       3214\n",
       "1       1192\n",
       "2        529\n",
       "3        339\n",
       "4        242\n",
       "        ... \n",
       "78         1\n",
       "1307       1\n",
       "783        1\n",
       "1393       1\n",
       "1311       1\n",
       "Name: WheelsAndTyres, Length: 388, dtype: int64"
      ]
     },
     "metadata": {},
     "output_type": "display_data"
    },
    {
     "data": {
      "text/plain": [
       "0.0      3214\n",
       "100.0     249\n",
       "50.0      192\n",
       "33.3      168\n",
       "25.0      162\n",
       "         ... \n",
       "28.5        1\n",
       "39.3        1\n",
       "48.5        1\n",
       "32.1        1\n",
       "53.3        1\n",
       "Name: WheelsAndTyresPercent, Length: 349, dtype: int64"
      ]
     },
     "metadata": {},
     "output_type": "display_data"
    },
    {
     "data": {
      "text/plain": [
       "0      4484\n",
       "1      1098\n",
       "2       443\n",
       "3       282\n",
       "4       188\n",
       "       ... \n",
       "931       1\n",
       "441       1\n",
       "433       1\n",
       "425       1\n",
       "493       1\n",
       "Name: EngineNoiseAndExhaust, Length: 249, dtype: int64"
      ]
     },
     "metadata": {},
     "output_type": "display_data"
    },
    {
     "data": {
      "text/plain": [
       "0.0      4485\n",
       "50.0      105\n",
       "33.3      104\n",
       "100.0      92\n",
       "20.0       79\n",
       "         ... \n",
       "28.7        1\n",
       "21.0        1\n",
       "23.6        1\n",
       "28.0        1\n",
       "27.5        1\n",
       "Name: EngineNoiseAndExhaustPercent, Length: 289, dtype: int64"
      ]
     },
     "metadata": {},
     "output_type": "display_data"
    },
    {
     "data": {
      "text/plain": [
       "0       4410\n",
       "1       1140\n",
       "2        476\n",
       "3        316\n",
       "4        213\n",
       "        ... \n",
       "102        1\n",
       "94         1\n",
       "86         1\n",
       "1557       1\n",
       "1441       1\n",
       "Name: ChassisAndBody, Length: 217, dtype: int64"
      ]
     },
     "metadata": {},
     "output_type": "display_data"
    },
    {
     "data": {
      "text/plain": [
       "0.0      4410\n",
       "100.0     194\n",
       "50.0      159\n",
       "33.3      145\n",
       "25.0       87\n",
       "         ... \n",
       "51.1        1\n",
       "42.8        1\n",
       "21.0        1\n",
       "15.5        1\n",
       "66.5        1\n",
       "Name: ChassisAndBodyPercent, Length: 391, dtype: int64"
      ]
     },
     "metadata": {},
     "output_type": "display_data"
    },
    {
     "data": {
      "text/plain": [
       "0       3602\n",
       "1       1159\n",
       "2        539\n",
       "3        310\n",
       "4        235\n",
       "        ... \n",
       "1673       1\n",
       "1537       1\n",
       "1365       1\n",
       "1313       1\n",
       "1663       1\n",
       "Name: SideSlipTest, Length: 332, dtype: int64"
      ]
     },
     "metadata": {},
     "output_type": "display_data"
    },
    {
     "data": {
      "text/plain": [
       "0.0      3602\n",
       "100.0     240\n",
       "50.0      195\n",
       "33.3      159\n",
       "25.0      142\n",
       "         ... \n",
       "39.9        1\n",
       "33.6        1\n",
       "42.0        1\n",
       "38.0        1\n",
       "33.8        1\n",
       "Name: SideSlipTestPercent, Length: 418, dtype: int64"
      ]
     },
     "metadata": {},
     "output_type": "display_data"
    },
    {
     "data": {
      "text/plain": [
       "0      4514\n",
       "1      1092\n",
       "2       443\n",
       "3       287\n",
       "4       205\n",
       "       ... \n",
       "441       1\n",
       "437       1\n",
       "409       1\n",
       "191       1\n",
       "851       1\n",
       "Name: SuspensionTest, Length: 238, dtype: int64"
      ]
     },
     "metadata": {},
     "output_type": "display_data"
    },
    {
     "data": {
      "text/plain": [
       "0.0      4514\n",
       "100.0     110\n",
       "50.0       88\n",
       "20.0       69\n",
       "12.5       62\n",
       "         ... \n",
       "18.1        1\n",
       "20.8        1\n",
       "20.7        1\n",
       "64.7        1\n",
       "16.6        1\n",
       "Name: SuspensionTestPercent, Length: 233, dtype: int64"
      ]
     },
     "metadata": {},
     "output_type": "display_data"
    },
    {
     "data": {
      "text/plain": [
       "0      4059\n",
       "1      1182\n",
       "2       470\n",
       "3       308\n",
       "4       239\n",
       "       ... \n",
       "231       1\n",
       "481       1\n",
       "425       1\n",
       "421       1\n",
       "595       1\n",
       "Name: LightTest, Length: 269, dtype: int64"
      ]
     },
     "metadata": {},
     "output_type": "display_data"
    },
    {
     "data": {
      "text/plain": [
       "0.0      4059\n",
       "100.0     151\n",
       "50.0      124\n",
       "33.3       87\n",
       "25.0       80\n",
       "         ... \n",
       "14.4        1\n",
       "21.5        1\n",
       "20.5        1\n",
       "20.7        1\n",
       "15.1        1\n",
       "Name: LightTestPercent, Length: 228, dtype: int64"
      ]
     },
     "metadata": {},
     "output_type": "display_data"
    },
    {
     "data": {
      "text/plain": [
       "0       3645\n",
       "1       1217\n",
       "2        530\n",
       "3        285\n",
       "4        223\n",
       "        ... \n",
       "681        1\n",
       "601        1\n",
       "597        1\n",
       "577        1\n",
       "1021       1\n",
       "Name: BrakeTest, Length: 342, dtype: int64"
      ]
     },
     "metadata": {},
     "output_type": "display_data"
    },
    {
     "data": {
      "text/plain": [
       "0.0      3645\n",
       "100.0     284\n",
       "50.0      206\n",
       "33.3      185\n",
       "25.0      137\n",
       "         ... \n",
       "68.8        1\n",
       "34.4        1\n",
       "44.8        1\n",
       "44.1        1\n",
       "43.8        1\n",
       "Name: BrakeTest%, Length: 425, dtype: int64"
      ]
     },
     "metadata": {},
     "output_type": "display_data"
    },
    {
     "data": {
      "text/plain": [
       "0      4514\n",
       "1      1068\n",
       "2       454\n",
       "3       272\n",
       "4       189\n",
       "       ... \n",
       "743       1\n",
       "825       1\n",
       "721       1\n",
       "661       1\n",
       "865       1\n",
       "Name: Emissions, Length: 227, dtype: int64"
      ]
     },
     "metadata": {},
     "output_type": "display_data"
    },
    {
     "data": {
      "text/plain": [
       "0.0      4514\n",
       "50.0      130\n",
       "100.0     122\n",
       "20.0       84\n",
       "14.3       73\n",
       "         ... \n",
       "29.3        1\n",
       "26.8        1\n",
       "21.6        1\n",
       "54.5        1\n",
       "56.5        1\n",
       "Name: EmissionsPercent, Length: 313, dtype: int64"
      ]
     },
     "metadata": {},
     "output_type": "display_data"
    },
    {
     "data": {
      "text/plain": [
       "0     6526\n",
       "1      755\n",
       "2      271\n",
       "3      151\n",
       "4      109\n",
       "5       67\n",
       "6       48\n",
       "7       33\n",
       "8       22\n",
       "9       18\n",
       "11      18\n",
       "10      18\n",
       "13      14\n",
       "12      13\n",
       "14      10\n",
       "16       8\n",
       "25       6\n",
       "18       6\n",
       "15       6\n",
       "21       6\n",
       "24       5\n",
       "20       5\n",
       "17       5\n",
       "31       4\n",
       "30       3\n",
       "33       3\n",
       "23       3\n",
       "32       3\n",
       "26       2\n",
       "29       2\n",
       "37       2\n",
       "19       2\n",
       "27       2\n",
       "42       2\n",
       "35       2\n",
       "39       2\n",
       "34       2\n",
       "28       2\n",
       "47       1\n",
       "36       1\n",
       "48       1\n",
       "52       1\n",
       "41       1\n",
       "43       1\n",
       "22       1\n",
       "38       1\n",
       "45       1\n",
       "Name: Other, dtype: int64"
      ]
     },
     "metadata": {},
     "output_type": "display_data"
    },
    {
     "data": {
      "text/plain": [
       "0.0     6527\n",
       "0.5      153\n",
       "0.4      150\n",
       "0.3      147\n",
       "0.6      130\n",
       "        ... \n",
       "60.0       1\n",
       "7.5        1\n",
       "3.5        1\n",
       "22.2       1\n",
       "5.1        1\n",
       "Name: OtherPercent, Length: 79, dtype: int64"
      ]
     },
     "metadata": {},
     "output_type": "display_data"
    },
    {
     "data": {
      "text/plain": [
       "0     7549\n",
       "1      421\n",
       "2      110\n",
       "3       30\n",
       "4       22\n",
       "5       12\n",
       "6        9\n",
       "7        3\n",
       "9        3\n",
       "12       2\n",
       "23       1\n",
       "15       1\n",
       "11       1\n",
       "18       1\n",
       "Name: IncompletablePercent, dtype: int64"
      ]
     },
     "metadata": {},
     "output_type": "display_data"
    },
    {
     "data": {
      "text/plain": [
       "0.0     7623\n",
       "0.1      125\n",
       "0.2       50\n",
       "0.3       47\n",
       "0.4       41\n",
       "        ... \n",
       "9.1        1\n",
       "13.5       1\n",
       "10.5       1\n",
       "3.2        1\n",
       "4.9        1\n",
       "Name: Incompletable %, Length: 78, dtype: int64"
      ]
     },
     "metadata": {},
     "output_type": "display_data"
    }
   ],
   "source": [
    "for col in df:\n",
    "    display(df[col].value_counts())"
   ]
  },
  {
   "cell_type": "code",
   "execution_count": 8,
   "metadata": {},
   "outputs": [
    {
     "data": {
      "text/html": [
       "<div>\n",
       "<style scoped>\n",
       "    .dataframe tbody tr th:only-of-type {\n",
       "        vertical-align: middle;\n",
       "    }\n",
       "\n",
       "    .dataframe tbody tr th {\n",
       "        vertical-align: top;\n",
       "    }\n",
       "\n",
       "    .dataframe thead th {\n",
       "        text-align: right;\n",
       "    }\n",
       "</style>\n",
       "<table border=\"1\" class=\"dataframe\">\n",
       "  <thead>\n",
       "    <tr style=\"text-align: right;\">\n",
       "      <th></th>\n",
       "      <th>VehicleMake</th>\n",
       "      <th>VehicleModel</th>\n",
       "      <th>YearOfBirth</th>\n",
       "      <th>Total</th>\n",
       "      <th>PASS</th>\n",
       "      <th>PASS %</th>\n",
       "      <th>FAIL</th>\n",
       "      <th>FAIL %</th>\n",
       "      <th>Vehicle and Safety Equipment</th>\n",
       "      <th>Vehicle and Safety Equipment %</th>\n",
       "      <th>...</th>\n",
       "      <th>Light test</th>\n",
       "      <th>Light test %</th>\n",
       "      <th>Brake Test</th>\n",
       "      <th>Brake Test %</th>\n",
       "      <th>Emmissions</th>\n",
       "      <th>Emmissions %</th>\n",
       "      <th>OTHER</th>\n",
       "      <th>OTHER %</th>\n",
       "      <th>Incompletable</th>\n",
       "      <th>Incompletable %</th>\n",
       "    </tr>\n",
       "  </thead>\n",
       "  <tbody>\n",
       "    <tr>\n",
       "      <th>6268</th>\n",
       "      <td>SKODA</td>\n",
       "      <td>CITIGO</td>\n",
       "      <td>2012</td>\n",
       "      <td>102</td>\n",
       "      <td>94</td>\n",
       "      <td>92.2</td>\n",
       "      <td>8</td>\n",
       "      <td>7.8</td>\n",
       "      <td>1</td>\n",
       "      <td>1.0</td>\n",
       "      <td>...</td>\n",
       "      <td>1</td>\n",
       "      <td>1.0</td>\n",
       "      <td>0</td>\n",
       "      <td>0.0</td>\n",
       "      <td>0</td>\n",
       "      <td>0.0</td>\n",
       "      <td>0</td>\n",
       "      <td>0.0</td>\n",
       "      <td>0</td>\n",
       "      <td>0.0</td>\n",
       "    </tr>\n",
       "    <tr>\n",
       "      <th>6269</th>\n",
       "      <td>SKODA</td>\n",
       "      <td>CITIGO</td>\n",
       "      <td>2013</td>\n",
       "      <td>54</td>\n",
       "      <td>48</td>\n",
       "      <td>88.9</td>\n",
       "      <td>6</td>\n",
       "      <td>11.1</td>\n",
       "      <td>2</td>\n",
       "      <td>3.7</td>\n",
       "      <td>...</td>\n",
       "      <td>0</td>\n",
       "      <td>0.0</td>\n",
       "      <td>0</td>\n",
       "      <td>0.0</td>\n",
       "      <td>0</td>\n",
       "      <td>0.0</td>\n",
       "      <td>0</td>\n",
       "      <td>0.0</td>\n",
       "      <td>0</td>\n",
       "      <td>0.0</td>\n",
       "    </tr>\n",
       "    <tr>\n",
       "      <th>6270</th>\n",
       "      <td>SKODA</td>\n",
       "      <td>FABIA</td>\n",
       "      <td>2000</td>\n",
       "      <td>250</td>\n",
       "      <td>78</td>\n",
       "      <td>31.2</td>\n",
       "      <td>172</td>\n",
       "      <td>68.8</td>\n",
       "      <td>43</td>\n",
       "      <td>17.2</td>\n",
       "      <td>...</td>\n",
       "      <td>16</td>\n",
       "      <td>6.4</td>\n",
       "      <td>51</td>\n",
       "      <td>20.4</td>\n",
       "      <td>11</td>\n",
       "      <td>4.4</td>\n",
       "      <td>2</td>\n",
       "      <td>0.8</td>\n",
       "      <td>0</td>\n",
       "      <td>0.0</td>\n",
       "    </tr>\n",
       "    <tr>\n",
       "      <th>6271</th>\n",
       "      <td>SKODA</td>\n",
       "      <td>FABIA</td>\n",
       "      <td>2001</td>\n",
       "      <td>736</td>\n",
       "      <td>238</td>\n",
       "      <td>32.3</td>\n",
       "      <td>498</td>\n",
       "      <td>67.7</td>\n",
       "      <td>102</td>\n",
       "      <td>13.9</td>\n",
       "      <td>...</td>\n",
       "      <td>72</td>\n",
       "      <td>9.8</td>\n",
       "      <td>183</td>\n",
       "      <td>24.9</td>\n",
       "      <td>19</td>\n",
       "      <td>2.6</td>\n",
       "      <td>3</td>\n",
       "      <td>0.4</td>\n",
       "      <td>0</td>\n",
       "      <td>0.0</td>\n",
       "    </tr>\n",
       "    <tr>\n",
       "      <th>6272</th>\n",
       "      <td>SKODA</td>\n",
       "      <td>FABIA</td>\n",
       "      <td>2002</td>\n",
       "      <td>829</td>\n",
       "      <td>291</td>\n",
       "      <td>35.1</td>\n",
       "      <td>538</td>\n",
       "      <td>64.9</td>\n",
       "      <td>121</td>\n",
       "      <td>14.6</td>\n",
       "      <td>...</td>\n",
       "      <td>79</td>\n",
       "      <td>9.5</td>\n",
       "      <td>177</td>\n",
       "      <td>21.4</td>\n",
       "      <td>30</td>\n",
       "      <td>3.6</td>\n",
       "      <td>3</td>\n",
       "      <td>0.4</td>\n",
       "      <td>0</td>\n",
       "      <td>0.0</td>\n",
       "    </tr>\n",
       "    <tr>\n",
       "      <th>...</th>\n",
       "      <td>...</td>\n",
       "      <td>...</td>\n",
       "      <td>...</td>\n",
       "      <td>...</td>\n",
       "      <td>...</td>\n",
       "      <td>...</td>\n",
       "      <td>...</td>\n",
       "      <td>...</td>\n",
       "      <td>...</td>\n",
       "      <td>...</td>\n",
       "      <td>...</td>\n",
       "      <td>...</td>\n",
       "      <td>...</td>\n",
       "      <td>...</td>\n",
       "      <td>...</td>\n",
       "      <td>...</td>\n",
       "      <td>...</td>\n",
       "      <td>...</td>\n",
       "      <td>...</td>\n",
       "      <td>...</td>\n",
       "      <td>...</td>\n",
       "    </tr>\n",
       "    <tr>\n",
       "      <th>6353</th>\n",
       "      <td>SKODA</td>\n",
       "      <td>SUPERB</td>\n",
       "      <td>2016</td>\n",
       "      <td>24</td>\n",
       "      <td>23</td>\n",
       "      <td>95.8</td>\n",
       "      <td>1</td>\n",
       "      <td>4.2</td>\n",
       "      <td>0</td>\n",
       "      <td>0.0</td>\n",
       "      <td>...</td>\n",
       "      <td>0</td>\n",
       "      <td>0.0</td>\n",
       "      <td>0</td>\n",
       "      <td>0.0</td>\n",
       "      <td>0</td>\n",
       "      <td>0.0</td>\n",
       "      <td>0</td>\n",
       "      <td>0.0</td>\n",
       "      <td>0</td>\n",
       "      <td>0.0</td>\n",
       "    </tr>\n",
       "    <tr>\n",
       "      <th>6354</th>\n",
       "      <td>SKODA</td>\n",
       "      <td>YETI</td>\n",
       "      <td>2010</td>\n",
       "      <td>413</td>\n",
       "      <td>352</td>\n",
       "      <td>85.2</td>\n",
       "      <td>61</td>\n",
       "      <td>14.8</td>\n",
       "      <td>10</td>\n",
       "      <td>2.4</td>\n",
       "      <td>...</td>\n",
       "      <td>11</td>\n",
       "      <td>2.7</td>\n",
       "      <td>1</td>\n",
       "      <td>0.2</td>\n",
       "      <td>0</td>\n",
       "      <td>0.0</td>\n",
       "      <td>2</td>\n",
       "      <td>0.5</td>\n",
       "      <td>0</td>\n",
       "      <td>0.0</td>\n",
       "    </tr>\n",
       "    <tr>\n",
       "      <th>6355</th>\n",
       "      <td>SKODA</td>\n",
       "      <td>YETI</td>\n",
       "      <td>2011</td>\n",
       "      <td>105</td>\n",
       "      <td>84</td>\n",
       "      <td>80.0</td>\n",
       "      <td>21</td>\n",
       "      <td>20.0</td>\n",
       "      <td>2</td>\n",
       "      <td>1.9</td>\n",
       "      <td>...</td>\n",
       "      <td>3</td>\n",
       "      <td>2.9</td>\n",
       "      <td>2</td>\n",
       "      <td>1.9</td>\n",
       "      <td>0</td>\n",
       "      <td>0.0</td>\n",
       "      <td>0</td>\n",
       "      <td>0.0</td>\n",
       "      <td>0</td>\n",
       "      <td>0.0</td>\n",
       "    </tr>\n",
       "    <tr>\n",
       "      <th>6356</th>\n",
       "      <td>SKODA</td>\n",
       "      <td>YETI</td>\n",
       "      <td>2012</td>\n",
       "      <td>442</td>\n",
       "      <td>402</td>\n",
       "      <td>91.0</td>\n",
       "      <td>40</td>\n",
       "      <td>9.0</td>\n",
       "      <td>11</td>\n",
       "      <td>2.5</td>\n",
       "      <td>...</td>\n",
       "      <td>7</td>\n",
       "      <td>1.6</td>\n",
       "      <td>0</td>\n",
       "      <td>0.0</td>\n",
       "      <td>0</td>\n",
       "      <td>0.0</td>\n",
       "      <td>0</td>\n",
       "      <td>0.0</td>\n",
       "      <td>0</td>\n",
       "      <td>0.0</td>\n",
       "    </tr>\n",
       "    <tr>\n",
       "      <th>6357</th>\n",
       "      <td>SKODA</td>\n",
       "      <td>YETI</td>\n",
       "      <td>2013</td>\n",
       "      <td>116</td>\n",
       "      <td>105</td>\n",
       "      <td>90.5</td>\n",
       "      <td>11</td>\n",
       "      <td>9.5</td>\n",
       "      <td>1</td>\n",
       "      <td>0.9</td>\n",
       "      <td>...</td>\n",
       "      <td>1</td>\n",
       "      <td>0.9</td>\n",
       "      <td>0</td>\n",
       "      <td>0.0</td>\n",
       "      <td>0</td>\n",
       "      <td>0.0</td>\n",
       "      <td>0</td>\n",
       "      <td>0.0</td>\n",
       "      <td>0</td>\n",
       "      <td>0.0</td>\n",
       "    </tr>\n",
       "  </tbody>\n",
       "</table>\n",
       "<p>90 rows × 36 columns</p>\n",
       "</div>"
      ],
      "text/plain": [
       "     VehicleMake VehicleModel  YearOfBirth  Total  PASS  PASS %  FAIL  FAIL %  \\\n",
       "6268       SKODA       CITIGO         2012    102    94    92.2     8     7.8   \n",
       "6269       SKODA       CITIGO         2013     54    48    88.9     6    11.1   \n",
       "6270       SKODA        FABIA         2000    250    78    31.2   172    68.8   \n",
       "6271       SKODA        FABIA         2001    736   238    32.3   498    67.7   \n",
       "6272       SKODA        FABIA         2002    829   291    35.1   538    64.9   \n",
       "...          ...          ...          ...    ...   ...     ...   ...     ...   \n",
       "6353       SKODA       SUPERB         2016     24    23    95.8     1     4.2   \n",
       "6354       SKODA         YETI         2010    413   352    85.2    61    14.8   \n",
       "6355       SKODA         YETI         2011    105    84    80.0    21    20.0   \n",
       "6356       SKODA         YETI         2012    442   402    91.0    40     9.0   \n",
       "6357       SKODA         YETI         2013    116   105    90.5    11     9.5   \n",
       "\n",
       "      Vehicle and Safety Equipment  Vehicle and Safety Equipment %  ...  \\\n",
       "6268                             1                             1.0  ...   \n",
       "6269                             2                             3.7  ...   \n",
       "6270                            43                            17.2  ...   \n",
       "6271                           102                            13.9  ...   \n",
       "6272                           121                            14.6  ...   \n",
       "...                            ...                             ...  ...   \n",
       "6353                             0                             0.0  ...   \n",
       "6354                            10                             2.4  ...   \n",
       "6355                             2                             1.9  ...   \n",
       "6356                            11                             2.5  ...   \n",
       "6357                             1                             0.9  ...   \n",
       "\n",
       "      Light test  Light test %  Brake Test  Brake Test %  Emmissions  \\\n",
       "6268           1           1.0           0           0.0           0   \n",
       "6269           0           0.0           0           0.0           0   \n",
       "6270          16           6.4          51          20.4          11   \n",
       "6271          72           9.8         183          24.9          19   \n",
       "6272          79           9.5         177          21.4          30   \n",
       "...          ...           ...         ...           ...         ...   \n",
       "6353           0           0.0           0           0.0           0   \n",
       "6354          11           2.7           1           0.2           0   \n",
       "6355           3           2.9           2           1.9           0   \n",
       "6356           7           1.6           0           0.0           0   \n",
       "6357           1           0.9           0           0.0           0   \n",
       "\n",
       "      Emmissions %  OTHER  OTHER %  Incompletable  Incompletable %  \n",
       "6268           0.0      0      0.0              0              0.0  \n",
       "6269           0.0      0      0.0              0              0.0  \n",
       "6270           4.4      2      0.8              0              0.0  \n",
       "6271           2.6      3      0.4              0              0.0  \n",
       "6272           3.6      3      0.4              0              0.0  \n",
       "...            ...    ...      ...            ...              ...  \n",
       "6353           0.0      0      0.0              0              0.0  \n",
       "6354           0.0      2      0.5              0              0.0  \n",
       "6355           0.0      0      0.0              0              0.0  \n",
       "6356           0.0      0      0.0              0              0.0  \n",
       "6357           0.0      0      0.0              0              0.0  \n",
       "\n",
       "[90 rows x 36 columns]"
      ]
     },
     "execution_count": 8,
     "metadata": {},
     "output_type": "execute_result"
    }
   ],
   "source": [
    "dfaudi = df[df['VehicleMake'] == 'AUDI']\n",
    "\n",
    "dfskoda = df[df['VehicleMake'] == 'SKODA']\n",
    "dfskoda"
   ]
  },
  {
   "cell_type": "code",
   "execution_count": null,
   "metadata": {},
   "outputs": [],
   "source": []
  }
 ],
 "metadata": {
  "kernelspec": {
   "display_name": "Python 3",
   "language": "python",
   "name": "python3"
  },
  "language_info": {
   "codemirror_mode": {
    "name": "ipython",
    "version": 3
   },
   "file_extension": ".py",
   "mimetype": "text/x-python",
   "name": "python",
   "nbconvert_exporter": "python",
   "pygments_lexer": "ipython3",
   "version": "3.7.6"
  },
  "toc": {
   "base_numbering": 1,
   "nav_menu": {},
   "number_sections": true,
   "sideBar": true,
   "skip_h1_title": false,
   "title_cell": "Table of Contents",
   "title_sidebar": "Contents",
   "toc_cell": false,
   "toc_position": {},
   "toc_section_display": true,
   "toc_window_display": false
  }
 },
 "nbformat": 4,
 "nbformat_minor": 2
}
